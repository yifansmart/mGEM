
food = ["apples", "spinach", "tofu", "milk"]
food.insert(3, "bread")
fruits, vegetables, protein, carbs, dairy = food[0], food[1], food[2], food[3], food[4]

#pretty messy, not sure if this is what instructions were asking for
newfood = enumerate(food)
index = []
element = []
for count, item in newfood:
  index.append(count)
  element.append(item)
for i in range(len(index)):
  print("index ", index[i], " in food is: ", element[i])

#or like this?
for index, item in enumerate(food):
  print("Index ", index, " in food is: ", item)
